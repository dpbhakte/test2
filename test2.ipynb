{
 "cells": [
  {
   "cell_type": "code",
   "execution_count": null,
   "id": "eb4e4e39",
   "metadata": {},
   "outputs": [],
   "source": [
    "# simple programme for for OOPS"
   ]
  },
  {
   "cell_type": "code",
   "execution_count": null,
   "id": "864336e2",
   "metadata": {},
   "outputs": [],
   "source": []
  },
  {
   "cell_type": "code",
   "execution_count": 16,
   "id": "ff76cc5b",
   "metadata": {},
   "outputs": [],
   "source": [
    "class phone:\n",
    "    def make_call(self):\n",
    "        print(\"I am making a call\")\n",
    "    def play_game(self):\n",
    "        print(\"I am plyaing a game\")"
   ]
  },
  {
   "cell_type": "code",
   "execution_count": 17,
   "id": "de8cbb24",
   "metadata": {},
   "outputs": [],
   "source": [
    "p1 =phone()"
   ]
  },
  {
   "cell_type": "code",
   "execution_count": 18,
   "id": "c9a69c19",
   "metadata": {},
   "outputs": [
    {
     "name": "stdout",
     "output_type": "stream",
     "text": [
      "I am making a call\n"
     ]
    }
   ],
   "source": [
    " p1.make_call()"
   ]
  },
  {
   "cell_type": "code",
   "execution_count": 19,
   "id": "1d680c34",
   "metadata": {},
   "outputs": [
    {
     "name": "stdout",
     "output_type": "stream",
     "text": [
      "I am plyaing a game\n"
     ]
    }
   ],
   "source": [
    "p1.play_game()"
   ]
  },
  {
   "cell_type": "code",
   "execution_count": 36,
   "id": "24a2e95b",
   "metadata": {},
   "outputs": [],
   "source": [
    "class phone:\n",
    "    def set_color(self,color):\n",
    "        self.color=color\n",
    "    def set_cost(self,cost):\n",
    "        self.cost=cost\n",
    "    def show_color(self):\n",
    "        return self.color\n",
    "    def show_cost(self):\n",
    "        return self.cost\n",
    "    def make_call(self):\n",
    "        print(\"make a call\")\n",
    "    def play_game(self):\n",
    "        print(\"play a game\")"
   ]
  },
  {
   "cell_type": "code",
   "execution_count": 19,
   "id": "61408b42",
   "metadata": {},
   "outputs": [],
   "source": [
    "p2=phone()"
   ]
  },
  {
   "cell_type": "code",
   "execution_count": 29,
   "id": "a3749c9c",
   "metadata": {
    "scrolled": true
   },
   "outputs": [],
   "source": [
    "p2.set_color (\"blue\")"
   ]
  },
  {
   "cell_type": "code",
   "execution_count": 31,
   "id": "473a2f75",
   "metadata": {},
   "outputs": [],
   "source": [
    "p2.set_cost (5000)"
   ]
  },
  {
   "cell_type": "code",
   "execution_count": 30,
   "id": "e5c9b515",
   "metadata": {},
   "outputs": [
    {
     "data": {
      "text/plain": [
       "'blue'"
      ]
     },
     "execution_count": 30,
     "metadata": {},
     "output_type": "execute_result"
    }
   ],
   "source": [
    "p2.show_color()"
   ]
  },
  {
   "cell_type": "code",
   "execution_count": 33,
   "id": "2257a8b9",
   "metadata": {},
   "outputs": [
    {
     "data": {
      "text/plain": [
       "5000"
      ]
     },
     "execution_count": 33,
     "metadata": {},
     "output_type": "execute_result"
    }
   ],
   "source": [
    "p2.show_cost()"
   ]
  },
  {
   "cell_type": "code",
   "execution_count": null,
   "id": "1a60addd",
   "metadata": {},
   "outputs": [],
   "source": []
  }
 ],
 "metadata": {
  "kernelspec": {
   "display_name": "Python 3 (ipykernel)",
   "language": "python",
   "name": "python3"
  },
  "language_info": {
   "codemirror_mode": {
    "name": "ipython",
    "version": 3
   },
   "file_extension": ".py",
   "mimetype": "text/x-python",
   "name": "python",
   "nbconvert_exporter": "python",
   "pygments_lexer": "ipython3",
   "version": "3.9.7"
  }
 },
 "nbformat": 4,
 "nbformat_minor": 5
}
